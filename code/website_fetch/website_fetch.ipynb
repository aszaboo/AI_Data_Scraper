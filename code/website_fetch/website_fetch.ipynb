{
 "cells": [
  {
   "cell_type": "code",
   "execution_count": 40,
   "metadata": {},
   "outputs": [
    {
     "data": {
      "text/plain": [
       "True"
      ]
     },
     "execution_count": 40,
     "metadata": {},
     "output_type": "execute_result"
    }
   ],
   "source": [
    "import os\n",
    "import requests\n",
    "from dotenv import load_dotenv\n",
    "from googleapiclient.discovery import build\n",
    "from azure.cognitiveservices.search.websearch import WebSearchClient\n",
    "from azure.cognitiveservices.search.websearch.models import SafeSearch\n",
    "from msrest.authentication import CognitiveServicesCredentials\n",
    "from openai import OpenAI # not being used as API key not loading properly\n",
    "load_dotenv()"
   ]
  },
  {
   "cell_type": "code",
   "execution_count": 64,
   "metadata": {},
   "outputs": [],
   "source": [
    "\n",
    "# Loading api keys\n",
    "google_api_key = os.getenv(\"GOOGLE_API_KEY\")\n",
    "google_cx = os.getenv(\"GOOGLE_CX\")\n",
    "bing_api_key = os.getenv(\"BING_API_KEY\")\n",
    "twitter_api_key = os.getenv(\"TWITTER_API_KEY\")\n",
    "news_api_key = os.getenv(\"NEWS_API_KEY\")\n",
    "scopus_api_key = os.getenv(\"SCOPUS_API_KEY\")\n",
    "open_ai_key = os.getenv(\"OPEN_AI_KEY\")"
   ]
  },
  {
   "cell_type": "code",
   "execution_count": 75,
   "metadata": {},
   "outputs": [],
   "source": [
    "# Getting user input for scraping\n",
    "scraping_topic = input(\"Please enter a prompt to be scraped\")"
   ]
  },
  {
   "cell_type": "code",
   "execution_count": 66,
   "metadata": {},
   "outputs": [],
   "source": [
    "# Setting up the OpenAI client\n",
    "# client = OpenAI()"
   ]
  },
  {
   "cell_type": "code",
   "execution_count": 67,
   "metadata": {},
   "outputs": [],
   "source": [
    "#completion = client.chat.completions.create(\n",
    "#  model=\"gpt-4\",\n",
    "#  messages=[\n",
    "#    {\"role\": \"system\", \"content\": \"You are a poetic assistant, skilled in explaining complex programming concepts with creative flair.\"},\n",
    "#    {\"role\": \"user\", \"content\": \"Compose a poem that explains the concept of recursion in programming.\"}\n",
    "#  ]\n",
    "#)\n",
    "\n",
    "#print(completion.choices[0].message)"
   ]
  },
  {
   "cell_type": "code",
   "execution_count": 76,
   "metadata": {},
   "outputs": [],
   "source": [
    "# creating a service object for the google api\n",
    "google_service = build(\"customsearch\", \"v1\", developerKey=google_api_key)"
   ]
  },
  {
   "cell_type": "code",
   "execution_count": 77,
   "metadata": {},
   "outputs": [],
   "source": [
    "# making a search request and processing the results\n",
    "search_query = scraping_topic\n",
    "google_response = google_service.cse().list(q=search_query, cx=google_cx).execute()\n",
    "\n",
    "google_results = google_response.get(\"items\", [])\n"
   ]
  },
  {
   "cell_type": "code",
   "execution_count": 78,
   "metadata": {},
   "outputs": [],
   "source": [
    "# declaring a list to store link data\n",
    "link_list = []"
   ]
  },
  {
   "cell_type": "code",
   "execution_count": 79,
   "metadata": {},
   "outputs": [],
   "source": [
    "for result in google_results:\n",
    "  link_list.append(result['link'])"
   ]
  },
  {
   "cell_type": "code",
   "execution_count": 83,
   "metadata": {},
   "outputs": [
    {
     "name": "stdout",
     "output_type": "stream",
     "text": [
      "Error occurred: get_bing_search_results() missing 1 required positional argument: 'linklist'\n"
     ]
    }
   ],
   "source": [
    "def get_bing_search_results(query, api_key, linklist):\n",
    "    search_url = \"https://api.bing.microsoft.com/v7.0/search\"\n",
    "    search_term = query\n",
    "    headers = {\"Ocp-Apim-Subscription-Key\": api_key}\n",
    "    params = {\"q\": search_term, \"textDecorations\": True, \"textFormat\": \"HTML\"}\n",
    "    response = requests.get(search_url, headers=headers, params=params)\n",
    "    response.raise_for_status()\n",
    "    search_results = response.json()\n",
    "    \n",
    "    #for webpage in results[\"webPages\"][\"value\"]:\n",
    "        #linklist.append(webpage[\"url\"])\n",
    "        \n",
    "    return search_results\n",
    "\n",
    "\n",
    "try:\n",
    "    links = get_bing_search_results(query, api_key)\n",
    "    for link in links:\n",
    "        print(link)\n",
    "        \n",
    "except Exception as e:\n",
    "    print(\"Error occurred:\", e)"
   ]
  },
  {
   "cell_type": "code",
   "execution_count": 84,
   "metadata": {},
   "outputs": [],
   "source": [
    "bing_results = get_bing_search_results(scraping_topic, bing_api_key, link_list)"
   ]
  },
  {
   "cell_type": "code",
   "execution_count": 106,
   "metadata": {},
   "outputs": [
    {
     "name": "stdout",
     "output_type": "stream",
     "text": [
      "{'id': 'https://api.bing.microsoft.com/api/v7/#WebPages.0', 'name': 'Use ChatGPT 4 inside Blender: Free Add-on with tutorial + demo', 'url': 'https://www.youtube.com/watch?v=IiTJ6s6P8B0', 'thumbnailUrl': 'https://www.bing.com/th?id=OIP.I0xYXjH-L3VDXFLyKaOP7wHaEK&w=80&h=80&c=1&pid=5.1', 'datePublished': '2023-03-27T00:00:00.0000000', 'datePublishedDisplayText': 'Mar 27, 2023', 'isFamilyFriendly': True, 'displayUrl': 'https://<b>www.youtube.com</b>/watch?v=IiTJ6s6P8B0', 'snippet': 'In this video, I will show you how to integrate the ChatGPT language model into your <b>Blender</b> AI workflow, allowing you to generate text directly within your 3D environment. We&#39;ll also cover some...', 'dateLastCrawled': '2023-12-17T18:24:00.0000000Z', 'primaryImageOfPage': {'thumbnailUrl': 'https://www.bing.com/th?id=OIP.I0xYXjH-L3VDXFLyKaOP7wHaEK&w=80&h=80&c=1&pid=5.1', 'width': 80, 'height': 80, 'imageId': 'OIP.I0xYXjH-L3VDXFLyKaOP7wHaEK'}, 'cachedPageUrl': 'http://cc.bingj.com/cache.aspx?q=chat+gpt+blender+integration&d=4976497339728236&mkt=en-US&setlang=en-US&w=zWh-sF5Gr0LXDJXr7qjbYuADhXYaglV3', 'language': 'en', 'isNavigational': False, 'richFacts': [{'label': {'text': 'Video Duration'}, 'items': [{'text': '37 sec'}], 'hint': {'text': 'MEDIA:DURATION'}}, {'label': {'text': 'Author'}, 'items': [{'text': 'Cozmec Studios'}], 'hint': {'text': 'BASE:AUTHOR'}}, {'label': {'text': 'Views'}, 'items': [{'text': '2277'}], 'hint': {'text': 'BASE:VIEWSCOUNT'}}]}\n"
     ]
    }
   ],
   "source": [
    "print(bing_results['webPages']['value'][0])"
   ]
  },
  {
   "cell_type": "code",
   "execution_count": 99,
   "metadata": {},
   "outputs": [
    {
     "name": "stdout",
     "output_type": "stream",
     "text": [
      "https://www.youtube.com/watch?v=IiTJ6s6P8B0\n"
     ]
    }
   ],
   "source": [
    "print(bing_results['webPages']['value'][0].get(\"url\"))"
   ]
  },
  {
   "cell_type": "code",
   "execution_count": 114,
   "metadata": {},
   "outputs": [],
   "source": [
    "i = 0\n",
    "for result in bing_results:\n",
    "    link_list.append(bing_results['webPages']['value'][i].get('url'))\n",
    "    i += 1"
   ]
  },
  {
   "cell_type": "code",
   "execution_count": 115,
   "metadata": {},
   "outputs": [
    {
     "name": "stdout",
     "output_type": "stream",
     "text": [
      "['https://www.youtube.com/watch?v=kqGQJp6hOko', 'https://www.reddit.com/r/blender/comments/11ylgx2/you_can_integrate_chatgpt4_into_blender_now_im_in/', 'https://www.youtube.com/watch?v=fGqd4l0qZ7Q', 'https://blenderartists.org/t/chat-gpt-in-blender-blender-copilot-addon/1457909', 'https://www.youtube.com/watch?v=M4zXKLFojO0', 'https://github.com/joshuaKnauber/bpy-chat-gpt', 'https://www.linkedin.com/posts/gamsakhurdiya_python-programming-in-blender-with-gpt-chat-activity-7116024762971078656-eV-B', 'https://askchatgpt3.com/f/ask-chat-gpt-3-how-to-create-a-blender-model?blogcategory=Coding+Software', 'https://github.com/TREE-Ind/Blender-GPT', 'https://www.blendernation.com/2023/02/11/use-chat-gpt-to-create-an-add-on-for-blender/', 'https://www.youtube.com/watch?v=IiTJ6s6P8B0', 'https://medium.com/@ryvnollie/blender-x-chatgpt-a-guide-to-the-ai-powered-blender-add-on-cf5766084f8f', 'https://github.com/gmh5225/chatGPT-BlenderGPT', 'https://www.youtube.com/watch?v=3iP4VENa9dk', 'https://vrcreators.net/docs/ai/blendergpt/', 'https://blendermarket.com/products/chat-companion']\n"
     ]
    }
   ],
   "source": [
    "print(link_list)"
   ]
  },
  {
   "cell_type": "code",
   "execution_count": null,
   "metadata": {},
   "outputs": [],
   "source": []
  }
 ],
 "metadata": {
  "kernelspec": {
   "display_name": ".venv",
   "language": "python",
   "name": "python3"
  },
  "language_info": {
   "codemirror_mode": {
    "name": "ipython",
    "version": 3
   },
   "file_extension": ".py",
   "mimetype": "text/x-python",
   "name": "python",
   "nbconvert_exporter": "python",
   "pygments_lexer": "ipython3",
   "version": "3.10.2"
  }
 },
 "nbformat": 4,
 "nbformat_minor": 2
}
